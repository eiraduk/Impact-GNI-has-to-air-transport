{
 "cells": [
  {
   "cell_type": "code",
   "execution_count": 1,
   "id": "b35ca4ed",
   "metadata": {},
   "outputs": [],
   "source": [
    "# the project will learn the relationship between Air transport passenger and Gross national income"
   ]
  },
  {
   "cell_type": "markdown",
   "id": "d1292c08",
   "metadata": {},
   "source": [
    "# Libraries"
   ]
  },
  {
   "cell_type": "code",
   "execution_count": 2,
   "id": "9945ecff",
   "metadata": {},
   "outputs": [],
   "source": [
    "import pandas as pd\n",
    "import matplotlib.pyplot as plt\n",
    "import statsmodels.api as sm\n",
    "import warnings\n",
    "warnings.filterwarnings('ignore')"
   ]
  },
  {
   "cell_type": "code",
   "execution_count": null,
   "id": "bc12693f",
   "metadata": {},
   "outputs": [],
   "source": []
  },
  {
   "cell_type": "code",
   "execution_count": 3,
   "id": "129fc2ff",
   "metadata": {},
   "outputs": [],
   "source": [
    "#reading the data for Gross national Income\n",
    "GNI = pd.read_csv(\"GNI.csv\", skiprows = 4)\n",
    "\n",
    "#Air Transport passenger\n",
    "AIRTransport = pd.read_csv(\"AIRTransport.csv\", skiprows =4)"
   ]
  },
  {
   "cell_type": "code",
   "execution_count": 4,
   "id": "239c771e",
   "metadata": {},
   "outputs": [
    {
     "data": {
      "text/html": [
       "<div>\n",
       "<style scoped>\n",
       "    .dataframe tbody tr th:only-of-type {\n",
       "        vertical-align: middle;\n",
       "    }\n",
       "\n",
       "    .dataframe tbody tr th {\n",
       "        vertical-align: top;\n",
       "    }\n",
       "\n",
       "    .dataframe thead th {\n",
       "        text-align: right;\n",
       "    }\n",
       "</style>\n",
       "<table border=\"1\" class=\"dataframe\">\n",
       "  <thead>\n",
       "    <tr style=\"text-align: right;\">\n",
       "      <th></th>\n",
       "      <th>2012</th>\n",
       "      <th>2013</th>\n",
       "      <th>2014</th>\n",
       "      <th>2015</th>\n",
       "      <th>2016</th>\n",
       "      <th>2017</th>\n",
       "      <th>2018</th>\n",
       "      <th>2019</th>\n",
       "    </tr>\n",
       "    <tr>\n",
       "      <th>Country Name</th>\n",
       "      <th></th>\n",
       "      <th></th>\n",
       "      <th></th>\n",
       "      <th></th>\n",
       "      <th></th>\n",
       "      <th></th>\n",
       "      <th></th>\n",
       "      <th></th>\n",
       "    </tr>\n",
       "  </thead>\n",
       "  <tbody>\n",
       "    <tr>\n",
       "      <th>Aruba</th>\n",
       "      <td>23520.000000</td>\n",
       "      <td>24510.000000</td>\n",
       "      <td>25350.000000</td>\n",
       "      <td>26560.000000</td>\n",
       "      <td>26840.000000</td>\n",
       "      <td>27120.000000</td>\n",
       "      <td>NaN</td>\n",
       "      <td>NaN</td>\n",
       "    </tr>\n",
       "    <tr>\n",
       "      <th>Africa Eastern and Southern</th>\n",
       "      <td>1604.995373</td>\n",
       "      <td>1640.075883</td>\n",
       "      <td>1630.757205</td>\n",
       "      <td>1536.858439</td>\n",
       "      <td>1436.930421</td>\n",
       "      <td>1409.976401</td>\n",
       "      <td>1457.251834</td>\n",
       "      <td>1489.281834</td>\n",
       "    </tr>\n",
       "  </tbody>\n",
       "</table>\n",
       "</div>"
      ],
      "text/plain": [
       "                                     2012          2013          2014  \\\n",
       "Country Name                                                            \n",
       "Aruba                        23520.000000  24510.000000  25350.000000   \n",
       "Africa Eastern and Southern   1604.995373   1640.075883   1630.757205   \n",
       "\n",
       "                                     2015          2016          2017  \\\n",
       "Country Name                                                            \n",
       "Aruba                        26560.000000  26840.000000  27120.000000   \n",
       "Africa Eastern and Southern   1536.858439   1436.930421   1409.976401   \n",
       "\n",
       "                                    2018         2019  \n",
       "Country Name                                           \n",
       "Aruba                                NaN          NaN  \n",
       "Africa Eastern and Southern  1457.251834  1489.281834  "
      ]
     },
     "execution_count": 4,
     "metadata": {},
     "output_type": "execute_result"
    }
   ],
   "source": [
    "#extracting explanatory variables\n",
    "Gni= GNI[['Country Name','2012','2013', '2014' ,'2015','2016','2017', '2018', '2019']]\n",
    "#setting index\n",
    "Gn = Gni.set_index('Country Name')\n",
    "#display\n",
    "Gn.head(2)"
   ]
  },
  {
   "cell_type": "code",
   "execution_count": 5,
   "id": "5c7fa53b",
   "metadata": {},
   "outputs": [
    {
     "data": {
      "text/html": [
       "<div>\n",
       "<style scoped>\n",
       "    .dataframe tbody tr th:only-of-type {\n",
       "        vertical-align: middle;\n",
       "    }\n",
       "\n",
       "    .dataframe tbody tr th {\n",
       "        vertical-align: top;\n",
       "    }\n",
       "\n",
       "    .dataframe thead th {\n",
       "        text-align: right;\n",
       "    }\n",
       "</style>\n",
       "<table border=\"1\" class=\"dataframe\">\n",
       "  <thead>\n",
       "    <tr style=\"text-align: right;\">\n",
       "      <th>Country Name</th>\n",
       "      <th>Aruba</th>\n",
       "      <th>Africa Eastern and Southern</th>\n",
       "      <th>Afghanistan</th>\n",
       "      <th>Africa Western and Central</th>\n",
       "      <th>Angola</th>\n",
       "      <th>Albania</th>\n",
       "      <th>Andorra</th>\n",
       "      <th>Arab World</th>\n",
       "      <th>United Arab Emirates</th>\n",
       "      <th>Argentina</th>\n",
       "      <th>...</th>\n",
       "      <th>Virgin Islands (U.S.)</th>\n",
       "      <th>Vietnam</th>\n",
       "      <th>Vanuatu</th>\n",
       "      <th>World</th>\n",
       "      <th>Samoa</th>\n",
       "      <th>Kosovo</th>\n",
       "      <th>Yemen, Rep.</th>\n",
       "      <th>South Africa</th>\n",
       "      <th>Zambia</th>\n",
       "      <th>Zimbabwe</th>\n",
       "    </tr>\n",
       "  </thead>\n",
       "  <tbody>\n",
       "    <tr>\n",
       "      <th>2012</th>\n",
       "      <td>23520.0</td>\n",
       "      <td>1604.995373</td>\n",
       "      <td>630.0</td>\n",
       "      <td>1769.950384</td>\n",
       "      <td>4170.0</td>\n",
       "      <td>4360.0</td>\n",
       "      <td>NaN</td>\n",
       "      <td>6977.869435</td>\n",
       "      <td>39220.0</td>\n",
       "      <td>11870.0</td>\n",
       "      <td>...</td>\n",
       "      <td>NaN</td>\n",
       "      <td>1540.0</td>\n",
       "      <td>2830.0</td>\n",
       "      <td>10506.682977</td>\n",
       "      <td>3660.0</td>\n",
       "      <td>3780.0</td>\n",
       "      <td>1260.0</td>\n",
       "      <td>7570.0</td>\n",
       "      <td>1690.0</td>\n",
       "      <td>1110.0</td>\n",
       "    </tr>\n",
       "    <tr>\n",
       "      <th>2013</th>\n",
       "      <td>24510.0</td>\n",
       "      <td>1640.075883</td>\n",
       "      <td>660.0</td>\n",
       "      <td>1927.136758</td>\n",
       "      <td>4780.0</td>\n",
       "      <td>4540.0</td>\n",
       "      <td>NaN</td>\n",
       "      <td>7479.469044</td>\n",
       "      <td>42840.0</td>\n",
       "      <td>12840.0</td>\n",
       "      <td>...</td>\n",
       "      <td>NaN</td>\n",
       "      <td>1720.0</td>\n",
       "      <td>3000.0</td>\n",
       "      <td>10886.139968</td>\n",
       "      <td>3800.0</td>\n",
       "      <td>3960.0</td>\n",
       "      <td>1440.0</td>\n",
       "      <td>7350.0</td>\n",
       "      <td>1760.0</td>\n",
       "      <td>1210.0</td>\n",
       "    </tr>\n",
       "  </tbody>\n",
       "</table>\n",
       "<p>2 rows × 266 columns</p>\n",
       "</div>"
      ],
      "text/plain": [
       "Country Name    Aruba  Africa Eastern and Southern  Afghanistan  \\\n",
       "2012          23520.0                  1604.995373        630.0   \n",
       "2013          24510.0                  1640.075883        660.0   \n",
       "\n",
       "Country Name  Africa Western and Central  Angola  Albania  Andorra  \\\n",
       "2012                         1769.950384  4170.0   4360.0      NaN   \n",
       "2013                         1927.136758  4780.0   4540.0      NaN   \n",
       "\n",
       "Country Name   Arab World  United Arab Emirates  Argentina  ...  \\\n",
       "2012          6977.869435               39220.0    11870.0  ...   \n",
       "2013          7479.469044               42840.0    12840.0  ...   \n",
       "\n",
       "Country Name  Virgin Islands (U.S.)  Vietnam  Vanuatu         World   Samoa  \\\n",
       "2012                            NaN   1540.0   2830.0  10506.682977  3660.0   \n",
       "2013                            NaN   1720.0   3000.0  10886.139968  3800.0   \n",
       "\n",
       "Country Name  Kosovo  Yemen, Rep.  South Africa  Zambia  Zimbabwe  \n",
       "2012          3780.0       1260.0        7570.0  1690.0    1110.0  \n",
       "2013          3960.0       1440.0        7350.0  1760.0    1210.0  \n",
       "\n",
       "[2 rows x 266 columns]"
      ]
     },
     "execution_count": 5,
     "metadata": {},
     "output_type": "execute_result"
    }
   ],
   "source": [
    "#Transposing the data frame\n",
    "Gni = Gn.T\n",
    "#Display\n",
    "Gni.head(2)"
   ]
  },
  {
   "cell_type": "code",
   "execution_count": 6,
   "id": "d17de523",
   "metadata": {},
   "outputs": [
    {
     "data": {
      "text/plain": [
       "array([630., 660., 630., 600., 550., 530., 520., 530.])"
      ]
     },
     "execution_count": 6,
     "metadata": {},
     "output_type": "execute_result"
    }
   ],
   "source": [
    "#values\n",
    "GNi = Gni['Afghanistan'].values\n",
    "#Display\n",
    "GNi"
   ]
  },
  {
   "cell_type": "code",
   "execution_count": 7,
   "id": "0cf77e53",
   "metadata": {},
   "outputs": [
    {
     "data": {
      "text/plain": [
       "Index(['2012', '2013', '2014', '2015', '2016', '2017', '2018', '2019'], dtype='object')"
      ]
     },
     "execution_count": 7,
     "metadata": {},
     "output_type": "execute_result"
    }
   ],
   "source": [
    "#displaying index\n",
    "gni = Gni['Afghanistan'].index\n",
    "#display\n",
    "gni"
   ]
  },
  {
   "cell_type": "code",
   "execution_count": 8,
   "id": "750a1c70",
   "metadata": {},
   "outputs": [
    {
     "data": {
      "text/html": [
       "<div>\n",
       "<style scoped>\n",
       "    .dataframe tbody tr th:only-of-type {\n",
       "        vertical-align: middle;\n",
       "    }\n",
       "\n",
       "    .dataframe tbody tr th {\n",
       "        vertical-align: top;\n",
       "    }\n",
       "\n",
       "    .dataframe thead th {\n",
       "        text-align: right;\n",
       "    }\n",
       "</style>\n",
       "<table border=\"1\" class=\"dataframe\">\n",
       "  <thead>\n",
       "    <tr style=\"text-align: right;\">\n",
       "      <th></th>\n",
       "      <th>2012</th>\n",
       "      <th>2013</th>\n",
       "      <th>2014</th>\n",
       "      <th>2015</th>\n",
       "      <th>2016</th>\n",
       "      <th>2017</th>\n",
       "      <th>2018</th>\n",
       "      <th>2019</th>\n",
       "    </tr>\n",
       "    <tr>\n",
       "      <th>Country Name</th>\n",
       "      <th></th>\n",
       "      <th></th>\n",
       "      <th></th>\n",
       "      <th></th>\n",
       "      <th></th>\n",
       "      <th></th>\n",
       "      <th></th>\n",
       "      <th></th>\n",
       "    </tr>\n",
       "  </thead>\n",
       "  <tbody>\n",
       "    <tr>\n",
       "      <th>Aruba</th>\n",
       "      <td>NaN</td>\n",
       "      <td>NaN</td>\n",
       "      <td>NaN</td>\n",
       "      <td>NaN</td>\n",
       "      <td>NaN</td>\n",
       "      <td>223502.00</td>\n",
       "      <td>2.742800e+05</td>\n",
       "      <td>NaN</td>\n",
       "    </tr>\n",
       "    <tr>\n",
       "      <th>Africa Eastern and Southern</th>\n",
       "      <td>3.583868e+07</td>\n",
       "      <td>3.511246e+07</td>\n",
       "      <td>3.635076e+07</td>\n",
       "      <td>39154692.0</td>\n",
       "      <td>41553429.0</td>\n",
       "      <td>45423814.08</td>\n",
       "      <td>5.261396e+07</td>\n",
       "      <td>5.433525e+07</td>\n",
       "    </tr>\n",
       "  </tbody>\n",
       "</table>\n",
       "</div>"
      ],
      "text/plain": [
       "                                     2012          2013          2014  \\\n",
       "Country Name                                                            \n",
       "Aruba                                 NaN           NaN           NaN   \n",
       "Africa Eastern and Southern  3.583868e+07  3.511246e+07  3.635076e+07   \n",
       "\n",
       "                                   2015        2016         2017  \\\n",
       "Country Name                                                       \n",
       "Aruba                               NaN         NaN    223502.00   \n",
       "Africa Eastern and Southern  39154692.0  41553429.0  45423814.08   \n",
       "\n",
       "                                     2018          2019  \n",
       "Country Name                                             \n",
       "Aruba                        2.742800e+05           NaN  \n",
       "Africa Eastern and Southern  5.261396e+07  5.433525e+07  "
      ]
     },
     "execution_count": 8,
     "metadata": {},
     "output_type": "execute_result"
    }
   ],
   "source": [
    "#extracting the explanatory  variable for air transport\n",
    "AIRTransport= AIRTransport[['Country Name','2012','2013', '2014' ,'2015','2016','2017', '2018', '2019']]\n",
    "#Setting index\n",
    "AIR = AIRTransport.set_index('Country Name')\n",
    "AIR.head(2)"
   ]
  },
  {
   "cell_type": "code",
   "execution_count": 9,
   "id": "18001af8",
   "metadata": {},
   "outputs": [
    {
     "data": {
      "text/html": [
       "<div>\n",
       "<style scoped>\n",
       "    .dataframe tbody tr th:only-of-type {\n",
       "        vertical-align: middle;\n",
       "    }\n",
       "\n",
       "    .dataframe tbody tr th {\n",
       "        vertical-align: top;\n",
       "    }\n",
       "\n",
       "    .dataframe thead th {\n",
       "        text-align: right;\n",
       "    }\n",
       "</style>\n",
       "<table border=\"1\" class=\"dataframe\">\n",
       "  <thead>\n",
       "    <tr style=\"text-align: right;\">\n",
       "      <th>Country Name</th>\n",
       "      <th>Aruba</th>\n",
       "      <th>Africa Eastern and Southern</th>\n",
       "      <th>Afghanistan</th>\n",
       "      <th>Africa Western and Central</th>\n",
       "      <th>Angola</th>\n",
       "      <th>Albania</th>\n",
       "      <th>Andorra</th>\n",
       "      <th>Arab World</th>\n",
       "      <th>United Arab Emirates</th>\n",
       "      <th>Argentina</th>\n",
       "      <th>...</th>\n",
       "      <th>Virgin Islands (U.S.)</th>\n",
       "      <th>Vietnam</th>\n",
       "      <th>Vanuatu</th>\n",
       "      <th>World</th>\n",
       "      <th>Samoa</th>\n",
       "      <th>Kosovo</th>\n",
       "      <th>Yemen, Rep.</th>\n",
       "      <th>South Africa</th>\n",
       "      <th>Zambia</th>\n",
       "      <th>Zimbabwe</th>\n",
       "    </tr>\n",
       "  </thead>\n",
       "  <tbody>\n",
       "    <tr>\n",
       "      <th>2012</th>\n",
       "      <td>NaN</td>\n",
       "      <td>3.583868e+07</td>\n",
       "      <td>1.737962e+06</td>\n",
       "      <td>9.570162e+06</td>\n",
       "      <td>1132424.0</td>\n",
       "      <td>814339.730279</td>\n",
       "      <td>NaN</td>\n",
       "      <td>1.520142e+08</td>\n",
       "      <td>5.994877e+07</td>\n",
       "      <td>9.375670e+06</td>\n",
       "      <td>...</td>\n",
       "      <td>NaN</td>\n",
       "      <td>1.697605e+07</td>\n",
       "      <td>318747.0</td>\n",
       "      <td>2.894055e+09</td>\n",
       "      <td>NaN</td>\n",
       "      <td>NaN</td>\n",
       "      <td>1.299707e+06</td>\n",
       "      <td>1.757157e+07</td>\n",
       "      <td>127296.65</td>\n",
       "      <td>320945.999811</td>\n",
       "    </tr>\n",
       "    <tr>\n",
       "      <th>2013</th>\n",
       "      <td>NaN</td>\n",
       "      <td>3.511246e+07</td>\n",
       "      <td>2.044188e+06</td>\n",
       "      <td>8.677884e+06</td>\n",
       "      <td>1321872.0</td>\n",
       "      <td>865848.000000</td>\n",
       "      <td>NaN</td>\n",
       "      <td>1.662093e+08</td>\n",
       "      <td>6.815186e+07</td>\n",
       "      <td>1.195128e+07</td>\n",
       "      <td>...</td>\n",
       "      <td>NaN</td>\n",
       "      <td>2.042931e+07</td>\n",
       "      <td>327060.0</td>\n",
       "      <td>3.048275e+09</td>\n",
       "      <td>NaN</td>\n",
       "      <td>NaN</td>\n",
       "      <td>1.664220e+06</td>\n",
       "      <td>1.631125e+07</td>\n",
       "      <td>10032.00</td>\n",
       "      <td>351564.000000</td>\n",
       "    </tr>\n",
       "  </tbody>\n",
       "</table>\n",
       "<p>2 rows × 266 columns</p>\n",
       "</div>"
      ],
      "text/plain": [
       "Country Name  Aruba  Africa Eastern and Southern   Afghanistan  \\\n",
       "2012            NaN                 3.583868e+07  1.737962e+06   \n",
       "2013            NaN                 3.511246e+07  2.044188e+06   \n",
       "\n",
       "Country Name  Africa Western and Central     Angola        Albania  Andorra  \\\n",
       "2012                        9.570162e+06  1132424.0  814339.730279      NaN   \n",
       "2013                        8.677884e+06  1321872.0  865848.000000      NaN   \n",
       "\n",
       "Country Name    Arab World  United Arab Emirates     Argentina  ...  \\\n",
       "2012          1.520142e+08          5.994877e+07  9.375670e+06  ...   \n",
       "2013          1.662093e+08          6.815186e+07  1.195128e+07  ...   \n",
       "\n",
       "Country Name  Virgin Islands (U.S.)       Vietnam   Vanuatu         World  \\\n",
       "2012                            NaN  1.697605e+07  318747.0  2.894055e+09   \n",
       "2013                            NaN  2.042931e+07  327060.0  3.048275e+09   \n",
       "\n",
       "Country Name  Samoa  Kosovo   Yemen, Rep.  South Africa     Zambia  \\\n",
       "2012            NaN     NaN  1.299707e+06  1.757157e+07  127296.65   \n",
       "2013            NaN     NaN  1.664220e+06  1.631125e+07   10032.00   \n",
       "\n",
       "Country Name       Zimbabwe  \n",
       "2012          320945.999811  \n",
       "2013          351564.000000  \n",
       "\n",
       "[2 rows x 266 columns]"
      ]
     },
     "execution_count": 9,
     "metadata": {},
     "output_type": "execute_result"
    }
   ],
   "source": [
    "#transposing the data\n",
    "AIRT = AIR.T\n",
    "\n",
    "#display\n",
    "\n",
    "AIRT.head(2)"
   ]
  },
  {
   "cell_type": "code",
   "execution_count": 10,
   "id": "41200dc9",
   "metadata": {},
   "outputs": [
    {
     "data": {
      "text/plain": [
       "array([1737962.12640656, 2044188.        , 2209428.        ,\n",
       "       1929907.        , 1917924.        , 1647425.        ,\n",
       "       1125367.        , 1066747.35619248])"
      ]
     },
     "execution_count": 10,
     "metadata": {},
     "output_type": "execute_result"
    }
   ],
   "source": [
    "AIRt = AIRT['Afghanistan'].values\n",
    "AIRt"
   ]
  },
  {
   "cell_type": "code",
   "execution_count": 11,
   "id": "02a36893",
   "metadata": {},
   "outputs": [
    {
     "data": {
      "text/plain": [
       "Index(['2012', '2013', '2014', '2015', '2016', '2017', '2018', '2019'], dtype='object')"
      ]
     },
     "execution_count": 11,
     "metadata": {},
     "output_type": "execute_result"
    }
   ],
   "source": [
    "AIR = AIRT['Afghanistan'].index\n",
    "AIR"
   ]
  },
  {
   "cell_type": "code",
   "execution_count": 12,
   "id": "1e6e2450",
   "metadata": {},
   "outputs": [
    {
     "data": {
      "text/html": [
       "<div>\n",
       "<style scoped>\n",
       "    .dataframe tbody tr th:only-of-type {\n",
       "        vertical-align: middle;\n",
       "    }\n",
       "\n",
       "    .dataframe tbody tr th {\n",
       "        vertical-align: top;\n",
       "    }\n",
       "\n",
       "    .dataframe thead th {\n",
       "        text-align: right;\n",
       "    }\n",
       "</style>\n",
       "<table border=\"1\" class=\"dataframe\">\n",
       "  <thead>\n",
       "    <tr style=\"text-align: right;\">\n",
       "      <th></th>\n",
       "      <th>AirTransport</th>\n",
       "      <th>Years</th>\n",
       "      <th>GNI</th>\n",
       "    </tr>\n",
       "  </thead>\n",
       "  <tbody>\n",
       "    <tr>\n",
       "      <th>0</th>\n",
       "      <td>1.737962e+06</td>\n",
       "      <td>2012</td>\n",
       "      <td>630.0</td>\n",
       "    </tr>\n",
       "    <tr>\n",
       "      <th>1</th>\n",
       "      <td>2.044188e+06</td>\n",
       "      <td>2013</td>\n",
       "      <td>660.0</td>\n",
       "    </tr>\n",
       "    <tr>\n",
       "      <th>2</th>\n",
       "      <td>2.209428e+06</td>\n",
       "      <td>2014</td>\n",
       "      <td>630.0</td>\n",
       "    </tr>\n",
       "    <tr>\n",
       "      <th>3</th>\n",
       "      <td>1.929907e+06</td>\n",
       "      <td>2015</td>\n",
       "      <td>600.0</td>\n",
       "    </tr>\n",
       "    <tr>\n",
       "      <th>4</th>\n",
       "      <td>1.917924e+06</td>\n",
       "      <td>2016</td>\n",
       "      <td>550.0</td>\n",
       "    </tr>\n",
       "    <tr>\n",
       "      <th>5</th>\n",
       "      <td>1.647425e+06</td>\n",
       "      <td>2017</td>\n",
       "      <td>530.0</td>\n",
       "    </tr>\n",
       "    <tr>\n",
       "      <th>6</th>\n",
       "      <td>1.125367e+06</td>\n",
       "      <td>2018</td>\n",
       "      <td>520.0</td>\n",
       "    </tr>\n",
       "    <tr>\n",
       "      <th>7</th>\n",
       "      <td>1.066747e+06</td>\n",
       "      <td>2019</td>\n",
       "      <td>530.0</td>\n",
       "    </tr>\n",
       "  </tbody>\n",
       "</table>\n",
       "</div>"
      ],
      "text/plain": [
       "   AirTransport  Years    GNI\n",
       "0  1.737962e+06   2012  630.0\n",
       "1  2.044188e+06   2013  660.0\n",
       "2  2.209428e+06   2014  630.0\n",
       "3  1.929907e+06   2015  600.0\n",
       "4  1.917924e+06   2016  550.0\n",
       "5  1.647425e+06   2017  530.0\n",
       "6  1.125367e+06   2018  520.0\n",
       "7  1.066747e+06   2019  530.0"
      ]
     },
     "execution_count": 12,
     "metadata": {},
     "output_type": "execute_result"
    }
   ],
   "source": [
    "#converting to data frame\n",
    "AIRTra = pd.DataFrame(data = AIRt, columns =['AirTransport'] )\n",
    "#converting years to int\n",
    "AIRTra['Years'] = AIR.astype(int)\n",
    "#append to dataframe\n",
    "AIRTra['GNI'] = GNi\n",
    "#display\n",
    "AIRTra"
   ]
  },
  {
   "cell_type": "code",
   "execution_count": 13,
   "id": "5e00fc1e",
   "metadata": {},
   "outputs": [
    {
     "data": {
      "text/html": [
       "<div>\n",
       "<style scoped>\n",
       "    .dataframe tbody tr th:only-of-type {\n",
       "        vertical-align: middle;\n",
       "    }\n",
       "\n",
       "    .dataframe tbody tr th {\n",
       "        vertical-align: top;\n",
       "    }\n",
       "\n",
       "    .dataframe thead th {\n",
       "        text-align: right;\n",
       "    }\n",
       "</style>\n",
       "<table border=\"1\" class=\"dataframe\">\n",
       "  <thead>\n",
       "    <tr style=\"text-align: right;\">\n",
       "      <th></th>\n",
       "      <th>AirTransport</th>\n",
       "      <th>Years</th>\n",
       "      <th>GNI</th>\n",
       "    </tr>\n",
       "  </thead>\n",
       "  <tbody>\n",
       "    <tr>\n",
       "      <th>AirTransport</th>\n",
       "      <td>1.000000</td>\n",
       "      <td>-0.769914</td>\n",
       "      <td>0.756961</td>\n",
       "    </tr>\n",
       "    <tr>\n",
       "      <th>Years</th>\n",
       "      <td>-0.769914</td>\n",
       "      <td>1.000000</td>\n",
       "      <td>-0.925382</td>\n",
       "    </tr>\n",
       "    <tr>\n",
       "      <th>GNI</th>\n",
       "      <td>0.756961</td>\n",
       "      <td>-0.925382</td>\n",
       "      <td>1.000000</td>\n",
       "    </tr>\n",
       "  </tbody>\n",
       "</table>\n",
       "</div>"
      ],
      "text/plain": [
       "              AirTransport     Years       GNI\n",
       "AirTransport      1.000000 -0.769914  0.756961\n",
       "Years            -0.769914  1.000000 -0.925382\n",
       "GNI               0.756961 -0.925382  1.000000"
      ]
     },
     "execution_count": 13,
     "metadata": {},
     "output_type": "execute_result"
    }
   ],
   "source": [
    "#correlation\n",
    "AIRTra.corr()"
   ]
  },
  {
   "cell_type": "code",
   "execution_count": 14,
   "id": "472586d2",
   "metadata": {},
   "outputs": [
    {
     "data": {
      "image/png": "[encoded data removed]",
      "text/plain": [
       "<Figure size 504x360 with 1 Axes>"
      ]
     },
     "metadata": {
      "needs_background": "light"
     },
     "output_type": "display_data"
    }
   ],
   "source": [
    "plt.figure(figsize = (7,5))\n",
    "#ploting\n",
    "plt.plot( AIRTra.Years,AIRTra.GNI)\n",
    "#title\n",
    "plt.title(\"Airtrnsport in different Years\")  \n",
    "#lables\n",
    "plt.ylabel(\"AIRtransport\")\n",
    "plt.xlabel(\"Years\")\n",
    "plt.grid()\n",
    "plt.show()\n",
    "\n",
    "#plt.scatter(AIRTra.GNI,AIRTra.AirTransport)\n"
   ]
  },
  {
   "cell_type": "code",
   "execution_count": 15,
   "id": "bbb4920f",
   "metadata": {},
   "outputs": [],
   "source": [
    "#setting variables to fit ols model\n",
    "xi = AIRTra.GNI\n",
    "yi = AIRTra.AirTransport"
   ]
  },
  {
   "cell_type": "code",
   "execution_count": 16,
   "id": "6b812a74",
   "metadata": {},
   "outputs": [
    {
     "name": "stdout",
     "output_type": "stream",
     "text": [
      "                            OLS Regression Results                            \n",
      "==============================================================================\n",
      "Dep. Variable:           AirTransport   R-squared:                       0.573\n",
      "Model:                            OLS   Adj. R-squared:                  0.502\n",
      "Method:                 Least Squares   F-statistic:                     8.051\n",
      "Date:                Wed, 20 Apr 2022   Prob (F-statistic):             0.0297\n",
      "Time:                        18:13:51   Log-Likelihood:                -110.93\n",
      "No. Observations:                   8   AIC:                             225.9\n",
      "Df Residuals:                       6   BIC:                             226.0\n",
      "Df Model:                           1                                         \n",
      "Covariance Type:            nonrobust                                         \n",
      "==============================================================================\n",
      "                 coef    std err          t      P>|t|      [0.025      0.975]\n",
      "------------------------------------------------------------------------------\n",
      "const      -1.611e+06   1.18e+06     -1.371      0.219   -4.49e+06    1.26e+06\n",
      "GNI         5713.9468   2013.750      2.837      0.030     786.479    1.06e+04\n",
      "==============================================================================\n",
      "Omnibus:                        2.097   Durbin-Watson:                   0.911\n",
      "Prob(Omnibus):                  0.351   Jarque-Bera (JB):                0.768\n",
      "Skew:                           0.069   Prob(JB):                        0.681\n",
      "Kurtosis:                       1.488   Cond. No.                     6.60e+03\n",
      "==============================================================================\n",
      "\n",
      "Notes:\n",
      "[1] Standard Errors assume that the covariance matrix of the errors is correctly specified.\n",
      "[2] The condition number is large, 6.6e+03. This might indicate that there are\n",
      "strong multicollinearity or other numerical problems.\n"
     ]
    }
   ],
   "source": [
    "\n",
    "\n",
    "def get_stats():\n",
    "   # x = College[x_columns]\n",
    "    x = sm.add_constant(xi)\n",
    "    results = sm.OLS(yi,x).fit()\n",
    "    print(results.summary())\n",
    "get_stats()"
   ]
  },
  {
   "cell_type": "code",
   "execution_count": 17,
   "id": "c6f041a6",
   "metadata": {},
   "outputs": [
    {
     "name": "stdout",
     "output_type": "stream",
     "text": [
      "                                 OLS Regression Results                                \n",
      "=======================================================================================\n",
      "Dep. Variable:           AirTransport   R-squared (uncentered):                   0.972\n",
      "Model:                            OLS   Adj. R-squared (uncentered):              0.968\n",
      "Method:                 Least Squares   F-statistic:                              246.2\n",
      "Date:                Wed, 20 Apr 2022   Prob (F-statistic):                    1.03e-06\n",
      "Time:                        18:13:51   Log-Likelihood:                         -112.02\n",
      "No. Observations:                   8   AIC:                                      226.0\n",
      "Df Residuals:                       7   BIC:                                      226.1\n",
      "Df Model:                           1                                                  \n",
      "Covariance Type:            nonrobust                                                  \n",
      "==============================================================================\n",
      "                 coef    std err          t      P>|t|      [0.025      0.975]\n",
      "------------------------------------------------------------------------------\n",
      "GNI         2963.3730    188.878     15.689      0.000    2516.748    3409.998\n",
      "==============================================================================\n",
      "Omnibus:                        1.125   Durbin-Watson:                   0.679\n",
      "Prob(Omnibus):                  0.570   Jarque-Bera (JB):                0.793\n",
      "Skew:                          -0.543   Prob(JB):                        0.673\n",
      "Kurtosis:                       1.905   Cond. No.                         1.00\n",
      "==============================================================================\n",
      "\n",
      "Notes:\n",
      "[1] R² is computed without centering (uncentered) since the model does not contain a constant.\n",
      "[2] Standard Errors assume that the covariance matrix of the errors is correctly specified.\n"
     ]
    }
   ],
   "source": [
    "#xi = sm.add_constant(xi)\n",
    "olsmod = sm.OLS(yi, xi)\n",
    "olsres = olsmod.fit()\n",
    "print(olsres.summary())\n",
    "\n",
    "ypred = olsres.predict(xi)"
   ]
  },
  {
   "cell_type": "code",
   "execution_count": 18,
   "id": "c2aa01f6",
   "metadata": {},
   "outputs": [],
   "source": [
    "xj = AIRTra.Years\n",
    "yj = AIRTra.GNI"
   ]
  },
  {
   "cell_type": "code",
   "execution_count": 19,
   "id": "9d44a0f9",
   "metadata": {},
   "outputs": [
    {
     "name": "stdout",
     "output_type": "stream",
     "text": [
      "                                 OLS Regression Results                                \n",
      "=======================================================================================\n",
      "Dep. Variable:                    GNI   R-squared (uncentered):                   0.992\n",
      "Model:                            OLS   Adj. R-squared (uncentered):              0.991\n",
      "Method:                 Least Squares   F-statistic:                              867.9\n",
      "Date:                Wed, 20 Apr 2022   Prob (F-statistic):                    1.34e-08\n",
      "Time:                        18:13:51   Log-Likelihood:                         -42.992\n",
      "No. Observations:                   8   AIC:                                      87.98\n",
      "Df Residuals:                       7   BIC:                                      88.06\n",
      "Df Model:                           1                                                  \n",
      "Covariance Type:            nonrobust                                                  \n",
      "==============================================================================\n",
      "                 coef    std err          t      P>|t|      [0.025      0.975]\n",
      "------------------------------------------------------------------------------\n",
      "Years          0.2884      0.010     29.460      0.000       0.265       0.312\n",
      "==============================================================================\n",
      "Omnibus:                        3.004   Durbin-Watson:                   0.269\n",
      "Prob(Omnibus):                  0.223   Jarque-Bera (JB):                0.910\n",
      "Skew:                           0.177   Prob(JB):                        0.634\n",
      "Kurtosis:                       1.386   Cond. No.                         1.00\n",
      "==============================================================================\n",
      "\n",
      "Notes:\n",
      "[1] R² is computed without centering (uncentered) since the model does not contain a constant.\n",
      "[2] Standard Errors assume that the covariance matrix of the errors is correctly specified.\n"
     ]
    }
   ],
   "source": [
    "#xj = sm.add_constant(xj)\n",
    "olsmod = sm.OLS(yj, xj)\n",
    "olsres = olsmod.fit()\n",
    "print(olsres.summary())\n",
    "\n",
    "ypred = olsres.predict(xj)"
   ]
  },
  {
   "cell_type": "code",
   "execution_count": 20,
   "id": "151f5efd",
   "metadata": {},
   "outputs": [
    {
     "data": {
      "text/plain": [
       "583.74564"
      ]
     },
     "execution_count": 20,
     "metadata": {},
     "output_type": "execute_result"
    }
   ],
   "source": [
    "#forecasring gni in 2021\n",
    "GNI2021 = 0.28884 * 2021\n",
    "GNI2021"
   ]
  },
  {
   "cell_type": "code",
   "execution_count": 21,
   "id": "da744288",
   "metadata": {},
   "outputs": [
    {
     "data": {
      "text/plain": [
       "1730439.8140837199"
      ]
     },
     "execution_count": 21,
     "metadata": {},
     "output_type": "execute_result"
    }
   ],
   "source": [
    "#corresponding transport for 2021\n",
    "Transport2021 = 2964.373 * GNI2021\n",
    "Transport2021"
   ]
  },
  {
   "cell_type": "code",
   "execution_count": null,
   "id": "e16cbc3f",
   "metadata": {},
   "outputs": [],
   "source": []
  }
 ],
 "metadata": {
  "kernelspec": {
   "display_name": "Python 3",
   "language": "python",
   "name": "python3"
  },
  "language_info": {
   "codemirror_mode": {
    "name": "ipython",
    "version": 3
   },
   "file_extension": ".py",
   "mimetype": "text/x-python",
   "name": "python",
   "nbconvert_exporter": "python",
   "pygments_lexer": "ipython3",
   "version": "3.8.8"
  }
 },
 "nbformat": 4,
 "nbformat_minor": 5
}
